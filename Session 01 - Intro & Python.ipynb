{
 "cells": [
  {
   "cell_type": "markdown",
   "metadata": {},
   "source": [
    "<div class=\"alert alert-info\">\n",
    "    <h1 align=\"center\">Machine Learning in Python</h1>\n",
    "    <h3 align=\"center\">Session 01: Introduction</h3>\n",
    "</div>"
   ]
  },
  {
   "cell_type": "markdown",
   "metadata": {},
   "source": [
    "<img src='https://searchvectorlogo.com/wp-content/uploads/2020/10/anaconda-inc-logo-vector.png'>\n",
    "\n",
    "# 1. Jupyter notebook\n",
    "\n",
    "Based on Professionals in Data Science and Machine learning Field, I strongly recommend installing Python and Jupyter using the Anaconda Distribution too, which includes Python, the Jupyter Notebook, and other commonly used packages for scientific computing and data science.\n",
    "\n",
    "* First, download Anaconda. Downloading Anaconda’s latest Python 3 version is recommended.\n",
    "\n",
    "* Second, install the version of Anaconda which you downloaded, following the instructions on the download page.\n",
    "\n",
    "Congratulations, you have installed Jupyter Notebook! \n",
    "To run the notebook, run the following command in Linux:\n",
    "\n",
    "> jupyter notebook"
   ]
  },
  {
   "cell_type": "markdown",
   "metadata": {},
   "source": [
    "# 2. Machine Learning Workflow\n",
    "\n",
    "There are different ways in Machine learning as follows:\n",
    "\n",
    "* Define Problem\n",
    "* Specify Inputs & Outputs\n",
    "* Exploratory data analysis\n",
    "* Data Collection\n",
    "* Data Preprocessing\n",
    "* Data Cleaning\n",
    "* Visualization\n",
    "* Model Design, Training, and Offline Evaluation\n",
    "* Model Deployment, Online Evaluation, and Monitoring\n",
    "* Model Maintenance, Diagnosis, and Retraining\n",
    "\n",
    "\n",
    "<img src='https://infohub.delltechnologies.com/static/media/9198938f-8c47-5a0e-82d9-6db6a62cd3f7/a590d217-296c-4142-a3bc-7d446da829bd/out/2120.007.png'>"
   ]
  },
  {
   "cell_type": "markdown",
   "metadata": {},
   "source": [
    "# 3. Packages Used in Machine Learning \n",
    "\n",
    "Most of Articles and books listed these libraries in python:\n",
    "\n",
    "* `Numpy` : \n",
    "NumPy is the fundamental package for scientific computing with Python.\n",
    "* `Pandas` : \n",
    "pandas is an open source, BSD-licensed library providing high-performance, easy-to-use data structures and data analysis tools for the Python programming language.\n",
    "* `Scipy`: \n",
    "SciPy (pronounced “Sigh Pie”) is a Python-based ecosystem of open-source software for mathematics, science, and engineering.\n",
    "* `Matplotlib`: \n",
    "Matplotlib is a Python 2D plotting library which produces publication quality figures in a variety of hardcopy formats and interactive environments across platforms.\n",
    "* `Seaborn`:\n",
    "Seaborn is a Python data visualization library based on matplotlib. It provides a high-level interface for drawing attractive and informative statistical graphics.\n",
    "* `Scikit learn`: \n",
    "Simple and efficient tools for data mining and data analysis and Machine learning.\n",
    "* `Tensorflow`:\n",
    "An open source machine learning and Deep learning framework for everyone made by Google.\n",
    "* `Keras`: \n",
    "Keras is a high-level neural networks API, written in Python and capable of running on top of TensorFlow, CNTK, or Theano.\n"
   ]
  },
  {
   "cell_type": "markdown",
   "metadata": {},
   "source": [
    "# 4. Exploratory Data Analysis(EDA)\n",
    "\n",
    "Exploratory data analysis (EDA) is an approach to analyzing data sets to summarize their main characteristics, often with visual methods. \n",
    "\n",
    "<img src='https://editor.analyticsvidhya.com/uploads/908751*t8d6pcrhaZ3GZn31Y-U0pA.png'>"
   ]
  },
  {
   "cell_type": "markdown",
   "metadata": {},
   "source": [
    "#  5. Let's Make our hands dirty with some python\n",
    "\n",
    "### Let's play a game!\n",
    "\n",
    "The scenario is: The player should guess a number, and he/she should guess it right!\n"
   ]
  },
  {
   "cell_type": "markdown",
   "metadata": {},
   "source": [
    "<img src=\"https://logos-world.net/wp-content/uploads/2021/10/Python-Logo-700x394.png\">"
   ]
  },
  {
   "cell_type": "markdown",
   "metadata": {},
   "source": [
    "# Let's begin"
   ]
  },
  {
   "cell_type": "markdown",
   "metadata": {},
   "source": [
    "### Some code with python"
   ]
  },
  {
   "cell_type": "code",
   "execution_count": 1,
   "metadata": {},
   "outputs": [
    {
     "name": "stdout",
     "output_type": "stream",
     "text": [
      "=== WELCOME ===\n",
      "False\n"
     ]
    }
   ],
   "source": [
    "# guessing the number 42!\n",
    "x = 42\n",
    "\n",
    "# Introduction\n",
    "print('=== WELCOME ===')\n",
    "\n",
    "# get the guessed number\n",
    "guessed = input('guess a number: ')\n",
    "\n",
    "# check if the guess is right\n",
    "print(int(guessed) == x)"
   ]
  },
  {
   "cell_type": "code",
   "execution_count": 2,
   "metadata": {},
   "outputs": [
    {
     "name": "stdout",
     "output_type": "stream",
     "text": [
      "10\n"
     ]
    }
   ],
   "source": [
    "print(guessed)"
   ]
  },
  {
   "cell_type": "code",
   "execution_count": 3,
   "metadata": {},
   "outputs": [
    {
     "data": {
      "text/plain": [
       "str"
      ]
     },
     "execution_count": 3,
     "metadata": {},
     "output_type": "execute_result"
    }
   ],
   "source": [
    "type(guessed)"
   ]
  },
  {
   "cell_type": "code",
   "execution_count": 4,
   "metadata": {},
   "outputs": [
    {
     "data": {
      "text/plain": [
       "int"
      ]
     },
     "execution_count": 4,
     "metadata": {},
     "output_type": "execute_result"
    }
   ],
   "source": [
    "type(x)"
   ]
  },
  {
   "cell_type": "markdown",
   "metadata": {},
   "source": [
    "## 5.2. Variables, Data Structures\n",
    "\n",
    "Variables could be of type `int, float, str, list, dict, ...`. (We will see `objects` later)"
   ]
  },
  {
   "cell_type": "code",
   "execution_count": 5,
   "metadata": {},
   "outputs": [
    {
     "name": "stdout",
     "output_type": "stream",
     "text": [
      "-10.5 , <class 'float'>\n"
     ]
    }
   ],
   "source": [
    "# === integers and floats (and complex numbers) ===\n",
    "v_1 = -10.5\n",
    "print(v_1, ',',type(v_1))"
   ]
  },
  {
   "cell_type": "code",
   "execution_count": 6,
   "metadata": {},
   "outputs": [
    {
     "name": "stdout",
     "output_type": "stream",
     "text": [
      "-10 , <class 'int'>\n"
     ]
    }
   ],
   "source": [
    "v_2 = int(v_1)\n",
    "\n",
    "\n",
    "\n",
    "print(v_2, ',',type(v_2))"
   ]
  },
  {
   "cell_type": "code",
   "execution_count": 7,
   "metadata": {},
   "outputs": [
    {
     "name": "stdout",
     "output_type": "stream",
     "text": [
      "(1.9363366072701937e-16+3.1622776601683795j) , <class 'complex'>\n"
     ]
    }
   ],
   "source": [
    "v_3 = v_2**0.5\n",
    "print(v_3, ',',type(v_3))"
   ]
  },
  {
   "cell_type": "markdown",
   "metadata": {},
   "source": [
    "## 5.3. Lists & tuples\n",
    "\n",
    "* python is zero-indexed.\n",
    "* tuples are just like lists... but immutable ones"
   ]
  },
  {
   "cell_type": "code",
   "execution_count": 8,
   "metadata": {},
   "outputs": [
    {
     "name": "stdout",
     "output_type": "stream",
     "text": [
      "[0, 1, 2, 3, 4, 5, 6, 7, 8] , <class 'list'>\n"
     ]
    }
   ],
   "source": [
    "# === lists & tuples ===\n",
    "\n",
    "v_4 = [0,1,2,3,4,5,6,7,8]\n",
    "v_4_2 = [\"Apple\",\"Orange\",\"Pear\"]\n",
    "\n",
    "print(v_4, ',',type(v_4))"
   ]
  },
  {
   "cell_type": "code",
   "execution_count": 9,
   "metadata": {},
   "outputs": [
    {
     "name": "stdout",
     "output_type": "stream",
     "text": [
      "4\n"
     ]
    }
   ],
   "source": [
    "# python is zero-indexed\n",
    "print(v_4[4])"
   ]
  },
  {
   "cell_type": "code",
   "execution_count": 10,
   "metadata": {},
   "outputs": [
    {
     "name": "stdout",
     "output_type": "stream",
     "text": [
      "[2, 3, 4, 5, 6]\n"
     ]
    }
   ],
   "source": [
    "# index ranges are fun!\n",
    "print(v_4[2:7])\n"
   ]
  },
  {
   "cell_type": "code",
   "execution_count": 11,
   "metadata": {},
   "outputs": [
    {
     "name": "stdout",
     "output_type": "stream",
     "text": [
      "[0, 1, 2, 3, 4, 5, 6, 7, 8]\n"
     ]
    }
   ],
   "source": [
    "print(v_4[:100])\n"
   ]
  },
  {
   "cell_type": "code",
   "execution_count": 12,
   "metadata": {},
   "outputs": [
    {
     "name": "stdout",
     "output_type": "stream",
     "text": [
      "[1, 3, 5]\n"
     ]
    }
   ],
   "source": [
    "print(v_4[1:6:2])"
   ]
  },
  {
   "cell_type": "code",
   "execution_count": 13,
   "metadata": {},
   "outputs": [
    {
     "name": "stdout",
     "output_type": "stream",
     "text": [
      "<class 'tuple'>\n"
     ]
    }
   ],
   "source": [
    "# tuples are just like lists... but immutable ones\n",
    "v_5 = [1,2,3]\n",
    "v_6 = (1,2,3)\n",
    "print(type(v_6))"
   ]
  },
  {
   "cell_type": "code",
   "execution_count": 14,
   "metadata": {},
   "outputs": [
    {
     "data": {
      "text/plain": [
       "[1, 2, 3]"
      ]
     },
     "execution_count": 14,
     "metadata": {},
     "output_type": "execute_result"
    }
   ],
   "source": [
    "v_5"
   ]
  },
  {
   "cell_type": "code",
   "execution_count": 15,
   "metadata": {},
   "outputs": [
    {
     "name": "stdout",
     "output_type": "stream",
     "text": [
      "[10, 2, 3]\n"
     ]
    }
   ],
   "source": [
    "v_5[0] = 10\n",
    "print(v_5)"
   ]
  },
  {
   "cell_type": "code",
   "execution_count": 16,
   "metadata": {},
   "outputs": [
    {
     "ename": "TypeError",
     "evalue": "'tuple' object does not support item assignment",
     "output_type": "error",
     "traceback": [
      "\u001b[0;31m---------------------------------------------------------------------------\u001b[0m",
      "\u001b[0;31mTypeError\u001b[0m                                 Traceback (most recent call last)",
      "Cell \u001b[0;32mIn[16], line 1\u001b[0m\n\u001b[0;32m----> 1\u001b[0m v_6[\u001b[39m0\u001b[39;49m] \u001b[39m=\u001b[39m \u001b[39m10\u001b[39m\n",
      "\u001b[0;31mTypeError\u001b[0m: 'tuple' object does not support item assignment"
     ]
    }
   ],
   "source": [
    "v_6[0] = 10"
   ]
  },
  {
   "cell_type": "markdown",
   "metadata": {},
   "source": [
    "## 5.4. Strings\n"
   ]
  },
  {
   "cell_type": "code",
   "execution_count": 18,
   "metadata": {},
   "outputs": [
    {
     "name": "stdout",
     "output_type": "stream",
     "text": [
      "This is a long string variable\n",
      "but not long enough , <class 'str'>\n"
     ]
    }
   ],
   "source": [
    "# === Strings ===\n",
    "v_7 = 'This is a long string variable\\nbut not long enough'\n",
    "print(v_7, ',',type(v_7))"
   ]
  },
  {
   "cell_type": "code",
   "execution_count": 19,
   "metadata": {},
   "outputs": [
    {
     "data": {
      "text/plain": [
       "50"
      ]
     },
     "execution_count": 19,
     "metadata": {},
     "output_type": "execute_result"
    }
   ],
   "source": [
    "len(v_7)"
   ]
  },
  {
   "cell_type": "code",
   "execution_count": 20,
   "metadata": {
    "scrolled": true
   },
   "outputs": [
    {
     "name": "stdout",
     "output_type": "stream",
     "text": [
      "his is a long string variable\n",
      "but not long enoug\n"
     ]
    }
   ],
   "source": [
    "# indexing in strings are just like lists\n",
    "print(v_7[1:-1])"
   ]
  },
  {
   "cell_type": "code",
   "execution_count": 21,
   "metadata": {},
   "outputs": [
    {
     "name": "stdout",
     "output_type": "stream",
     "text": [
      " he said :\"I'm fine\"\n"
     ]
    }
   ],
   "source": [
    "x = \" he said :\\\"I'm fine\\\"\"\n",
    "print(x)"
   ]
  },
  {
   "cell_type": "markdown",
   "metadata": {},
   "source": [
    "**Mini-puzzle:** How to reverse a word in a string?"
   ]
  },
  {
   "cell_type": "code",
   "execution_count": 22,
   "metadata": {},
   "outputs": [
    {
     "name": "stdout",
     "output_type": "stream",
     "text": [
      "nohtyP\n"
     ]
    }
   ],
   "source": [
    "word = 'Python'\n",
    "reversed_word = word[::-1]\n",
    "print(reversed_word)"
   ]
  },
  {
   "cell_type": "markdown",
   "metadata": {},
   "source": [
    "## 5.5. Dictionaries & Sets\n"
   ]
  },
  {
   "cell_type": "code",
   "execution_count": 23,
   "metadata": {},
   "outputs": [
    {
     "name": "stdout",
     "output_type": "stream",
     "text": [
      "{'Soheil', 'Ali', 'Ahmad'} , <class 'set'>\n"
     ]
    }
   ],
   "source": [
    "v_8={\"Ahmad\",\"Soheil\",\"Ali\"}\n",
    "print(v_8,',',type(v_8))"
   ]
  },
  {
   "cell_type": "code",
   "execution_count": 24,
   "metadata": {},
   "outputs": [
    {
     "ename": "TypeError",
     "evalue": "'set' object is not subscriptable",
     "output_type": "error",
     "traceback": [
      "\u001b[0;31m---------------------------------------------------------------------------\u001b[0m",
      "\u001b[0;31mTypeError\u001b[0m                                 Traceback (most recent call last)",
      "Cell \u001b[0;32mIn[24], line 1\u001b[0m\n\u001b[0;32m----> 1\u001b[0m v_8[\u001b[39m1\u001b[39;49m]\n",
      "\u001b[0;31mTypeError\u001b[0m: 'set' object is not subscriptable"
     ]
    }
   ],
   "source": [
    "v_8[1]"
   ]
  },
  {
   "cell_type": "code",
   "execution_count": 25,
   "metadata": {},
   "outputs": [
    {
     "name": "stdout",
     "output_type": "stream",
     "text": [
      "{'name': 'Ali', 'age': 60} , <class 'dict'>\n"
     ]
    }
   ],
   "source": [
    "# === Dictionaries ===\n",
    "v_9 = {'name': 'Ali', 'age': 60}\n",
    "print(v_9, ',',type(v_9))"
   ]
  },
  {
   "cell_type": "code",
   "execution_count": 26,
   "metadata": {},
   "outputs": [
    {
     "data": {
      "text/plain": [
       "'Ali'"
      ]
     },
     "execution_count": 26,
     "metadata": {},
     "output_type": "execute_result"
    }
   ],
   "source": [
    "# indexing dicts\n",
    "v_9['name']\n"
   ]
  },
  {
   "cell_type": "code",
   "execution_count": 27,
   "metadata": {},
   "outputs": [
    {
     "name": "stdout",
     "output_type": "stream",
     "text": [
      "True\n"
     ]
    }
   ],
   "source": [
    "print(v_9['age'] == 60)"
   ]
  },
  {
   "cell_type": "code",
   "execution_count": 28,
   "metadata": {},
   "outputs": [
    {
     "name": "stdout",
     "output_type": "stream",
     "text": [
      "True\n"
     ]
    },
    {
     "name": "stderr",
     "output_type": "stream",
     "text": [
      "<>:1: SyntaxWarning: \"is\" with a literal. Did you mean \"==\"?\n",
      "<>:1: SyntaxWarning: \"is\" with a literal. Did you mean \"==\"?\n",
      "/tmp/ipykernel_17256/673188856.py:1: SyntaxWarning: \"is\" with a literal. Did you mean \"==\"?\n",
      "  print(v_9['age'] is 60)\n"
     ]
    }
   ],
   "source": [
    "print(v_9['age'] is 60)"
   ]
  },
  {
   "cell_type": "markdown",
   "metadata": {},
   "source": [
    "## 5.6. Booleans\n"
   ]
  },
  {
   "cell_type": "code",
   "execution_count": 29,
   "metadata": {
    "scrolled": true
   },
   "outputs": [
    {
     "name": "stdout",
     "output_type": "stream",
     "text": [
      "False , <class 'bool'>\n"
     ]
    }
   ],
   "source": [
    "# booleans\n",
    "v_10 = 1 == 2\n",
    "print(v_10, ',',type(v_10))\n"
   ]
  },
  {
   "cell_type": "code",
   "execution_count": 30,
   "metadata": {},
   "outputs": [
    {
     "name": "stdout",
     "output_type": "stream",
     "text": [
      "True\n"
     ]
    }
   ],
   "source": [
    "# every var-type has a boolean representation\n",
    "print(bool(10))"
   ]
  },
  {
   "cell_type": "code",
   "execution_count": 31,
   "metadata": {},
   "outputs": [
    {
     "name": "stdout",
     "output_type": "stream",
     "text": [
      "False\n"
     ]
    }
   ],
   "source": [
    "print(bool(0))\n"
   ]
  },
  {
   "cell_type": "code",
   "execution_count": 32,
   "metadata": {},
   "outputs": [
    {
     "name": "stdout",
     "output_type": "stream",
     "text": [
      "True\n"
     ]
    }
   ],
   "source": [
    "print(bool([1,2,3]))\n"
   ]
  },
  {
   "cell_type": "code",
   "execution_count": 33,
   "metadata": {},
   "outputs": [
    {
     "name": "stdout",
     "output_type": "stream",
     "text": [
      "False\n"
     ]
    }
   ],
   "source": [
    "print(bool({}))"
   ]
  },
  {
   "cell_type": "markdown",
   "metadata": {},
   "source": [
    "##  5.7.OPERATORS\n",
    "\n",
    "- math operators are: `+, -, *, /, **, //, %` and all plus a `=`"
   ]
  },
  {
   "cell_type": "code",
   "execution_count": 34,
   "metadata": {},
   "outputs": [],
   "source": [
    "int_1 = 4\n",
    "float_1 = 10.75\n",
    "str_1 = 'aStringOperator'\n",
    "list_1 = ['x', 2, 'd', [1, 2, ('x', 'y')]]\n",
    "dict_1 = {'a': [1,2,3], 'b': {'x':0}}\n",
    "bool_1 = True"
   ]
  },
  {
   "cell_type": "code",
   "execution_count": 35,
   "metadata": {},
   "outputs": [
    {
     "name": "stdout",
     "output_type": "stream",
     "text": [
      "1:  14.75\n"
     ]
    }
   ],
   "source": [
    "print('1: ', int_1 + float_1)"
   ]
  },
  {
   "cell_type": "code",
   "execution_count": 36,
   "metadata": {},
   "outputs": [
    {
     "name": "stdout",
     "output_type": "stream",
     "text": [
      "2:  aStringOperatoraStringOperatoraStringOperatoraStringOperator\n"
     ]
    }
   ],
   "source": [
    "print('2: ', str_1 * int_1)"
   ]
  },
  {
   "cell_type": "code",
   "execution_count": 37,
   "metadata": {},
   "outputs": [
    {
     "name": "stdout",
     "output_type": "stream",
     "text": [
      "3:  ['x', 2, 'd', [1, 2, ('x', 'y')], 'x', 2, 'd', [1, 2, ('x', 'y')]]\n"
     ]
    }
   ],
   "source": [
    "print('3: ', list_1 + list_1)"
   ]
  },
  {
   "cell_type": "code",
   "execution_count": 38,
   "metadata": {},
   "outputs": [
    {
     "name": "stdout",
     "output_type": "stream",
     "text": [
      "4:  ['x', 2, 'd', [1, 2, ('x', 'y')], 'x', 2, 'd', [1, 2, ('x', 'y')]]\n"
     ]
    }
   ],
   "source": [
    "print('4: ', list_1*2)"
   ]
  },
  {
   "cell_type": "code",
   "execution_count": 39,
   "metadata": {},
   "outputs": [
    {
     "name": "stdout",
     "output_type": "stream",
     "text": [
      "5-1:  2.0\n",
      "5-2:  2\n",
      "5-3:  0\n"
     ]
    }
   ],
   "source": [
    "print('5-1: ', int_1/2)\n",
    "print('5-2: ', int_1//2)\n",
    "print('5-3: ', int_1%2)"
   ]
  },
  {
   "cell_type": "code",
   "execution_count": 40,
   "metadata": {},
   "outputs": [
    {
     "name": "stdout",
     "output_type": "stream",
     "text": [
      "6:  14.75\n"
     ]
    }
   ],
   "source": [
    "#int_1 = float_1 + int_1\n",
    "int_1 += float_1\n",
    "print('6: ', int_1)"
   ]
  },
  {
   "cell_type": "code",
   "execution_count": 41,
   "metadata": {},
   "outputs": [
    {
     "name": "stdout",
     "output_type": "stream",
     "text": [
      "7:  False\n"
     ]
    }
   ],
   "source": [
    "bool_1 &= False\n",
    "print('7: ', bool_1)"
   ]
  },
  {
   "cell_type": "code",
   "execution_count": 42,
   "metadata": {},
   "outputs": [
    {
     "name": "stdout",
     "output_type": "stream",
     "text": [
      "7:  True\n"
     ]
    }
   ],
   "source": [
    "\n",
    "bool_1 |= True\n",
    "print('7: ', bool_1)"
   ]
  },
  {
   "cell_type": "markdown",
   "metadata": {},
   "source": [
    "- logical operators are: `==, !=, in, is, not, is not, <, >, <=, >=, and, or` "
   ]
  },
  {
   "cell_type": "code",
   "execution_count": 43,
   "metadata": {},
   "outputs": [
    {
     "name": "stdout",
     "output_type": "stream",
     "text": [
      "1:  True\n"
     ]
    }
   ],
   "source": [
    "print('1: ', 1 == True)"
   ]
  },
  {
   "cell_type": "code",
   "execution_count": 44,
   "metadata": {},
   "outputs": [
    {
     "name": "stdout",
     "output_type": "stream",
     "text": [
      "2:  False\n"
     ]
    },
    {
     "name": "stderr",
     "output_type": "stream",
     "text": [
      "<>:1: SyntaxWarning: \"is\" with a literal. Did you mean \"==\"?\n",
      "<>:1: SyntaxWarning: \"is\" with a literal. Did you mean \"==\"?\n",
      "/tmp/ipykernel_17256/1627359820.py:1: SyntaxWarning: \"is\" with a literal. Did you mean \"==\"?\n",
      "  print('2: ', 1 is True)\n"
     ]
    }
   ],
   "source": [
    "print('2: ', 1 is True)"
   ]
  },
  {
   "cell_type": "code",
   "execution_count": 45,
   "metadata": {},
   "outputs": [
    {
     "name": "stdout",
     "output_type": "stream",
     "text": [
      "3:  True\n"
     ]
    }
   ],
   "source": [
    "print('3: ', ['x'] in ['y', 'x', ['x']])"
   ]
  },
  {
   "cell_type": "code",
   "execution_count": 46,
   "metadata": {},
   "outputs": [
    {
     "name": "stdout",
     "output_type": "stream",
     "text": [
      "4:  True\n"
     ]
    }
   ],
   "source": [
    "print('4: ', True or False is not False)"
   ]
  },
  {
   "cell_type": "markdown",
   "metadata": {},
   "source": [
    "---\n",
    "## 5.8. Loops & Conditionals\n",
    "\n",
    "### Loops\n",
    "\n",
    "We can go forward until we're told to stop, or we can go for `n` specific steps:"
   ]
  },
  {
   "cell_type": "code",
   "execution_count": 47,
   "metadata": {},
   "outputs": [
    {
     "ename": "IndentationError",
     "evalue": "unexpected indent (1075145083.py, line 2)",
     "output_type": "error",
     "traceback": [
      "\u001b[0;36m  Cell \u001b[0;32mIn[47], line 2\u001b[0;36m\u001b[0m\n\u001b[0;31m    print('i is {}'.format(i))\u001b[0m\n\u001b[0m    ^\u001b[0m\n\u001b[0;31mIndentationError\u001b[0m\u001b[0;31m:\u001b[0m unexpected indent\n"
     ]
    }
   ],
   "source": [
    "i=1\n",
    "  print('i is {}'.format(i))"
   ]
  },
  {
   "cell_type": "code",
   "execution_count": 48,
   "metadata": {},
   "outputs": [
    {
     "name": "stdout",
     "output_type": "stream",
     "text": [
      "i is Soheil\n"
     ]
    }
   ],
   "source": [
    "i='Soheil'\n",
    "print('i is {}'.format(i)) #print('i is' , i)"
   ]
  },
  {
   "cell_type": "code",
   "execution_count": 49,
   "metadata": {},
   "outputs": [
    {
     "name": "stdout",
     "output_type": "stream",
     "text": [
      "i is 0\n",
      "i is 1\n",
      "i is 2\n",
      "i is 3\n"
     ]
    }
   ],
   "source": [
    "# Go unless the statement is False\n",
    "i = 0\n",
    "while i < 4:\n",
    "    print('i is {}'.format(i))\n",
    "    i += 1\n",
    "    "
   ]
  },
  {
   "cell_type": "code",
   "execution_count": 50,
   "metadata": {},
   "outputs": [
    {
     "name": "stdout",
     "output_type": "stream",
     "text": [
      "j is 0\n",
      "j is 1\n",
      "j is 2\n",
      "j is 3\n",
      "j is 4\n"
     ]
    }
   ],
   "source": [
    "# Go for n steps\n",
    "for j in range(5):\n",
    "    print('j is {}'.format(j))"
   ]
  },
  {
   "cell_type": "markdown",
   "metadata": {},
   "source": [
    "### A tricky python code\n",
    "\n",
    "`Comprehensions` can be used as a compact form of `if` statement, when `if` is used to create a `list` or `tuple` or `dictionary` from an iterable"
   ]
  },
  {
   "cell_type": "code",
   "execution_count": 51,
   "metadata": {},
   "outputs": [],
   "source": [
    "list_1 = []\n",
    "for i in range(4):\n",
    "    list_1.append(i**2)\n",
    "\n",
    "list_2 = [i**2 for i in range(4)]\n"
   ]
  },
  {
   "cell_type": "code",
   "execution_count": 52,
   "metadata": {},
   "outputs": [
    {
     "name": "stdout",
     "output_type": "stream",
     "text": [
      "[0, 1, 4, 9]\n"
     ]
    }
   ],
   "source": [
    "print(list_1)"
   ]
  },
  {
   "cell_type": "code",
   "execution_count": 53,
   "metadata": {},
   "outputs": [
    {
     "name": "stdout",
     "output_type": "stream",
     "text": [
      "[0, 1, 4, 9]\n"
     ]
    }
   ],
   "source": [
    "print(list_2)"
   ]
  },
  {
   "cell_type": "code",
   "execution_count": 54,
   "metadata": {},
   "outputs": [
    {
     "name": "stdout",
     "output_type": "stream",
     "text": [
      "True\n"
     ]
    }
   ],
   "source": [
    "print(list_1 == list_2)"
   ]
  },
  {
   "cell_type": "code",
   "execution_count": 55,
   "metadata": {},
   "outputs": [
    {
     "name": "stdout",
     "output_type": "stream",
     "text": [
      "{'0': 0, '1': 1, '2': 2, '3': 3, '4': 4}\n"
     ]
    }
   ],
   "source": [
    "dict_1 = {str(i):i for i in range(5)}\n",
    "print(dict_1)"
   ]
  },
  {
   "cell_type": "markdown",
   "metadata": {},
   "source": [
    "### Conditionals\n",
    "\n",
    "There is only `if,elif,else` in python, there is no `switch, case` statement."
   ]
  },
  {
   "cell_type": "code",
   "execution_count": 57,
   "metadata": {},
   "outputs": [
    {
     "name": "stdout",
     "output_type": "stream",
     "text": [
      "the number 3 is divisible by 3\n"
     ]
    }
   ],
   "source": [
    "number = int(input('enter a number: '))\n",
    "if number % 3 == 0:\n",
    "    print('the number {} is divisible by 3'.format(number))\n",
    "elif number % 2 == 0:\n",
    "    print('the number {} is even'.format(number))\n",
    "else:\n",
    "    print('the number {} is divisible by neither 2 nor 3'.format(number))"
   ]
  },
  {
   "cell_type": "markdown",
   "metadata": {},
   "source": [
    "<img src=\"https://cdn.activestate.com/wp-content/uploads/2019/12/how-to-install-pip-on-windows.png\">"
   ]
  },
  {
   "cell_type": "markdown",
   "metadata": {},
   "source": [
    "# 6. Fucntion and `pip`\n",
    "\n",
    "Modular Programming means:\n",
    "\n",
    "- Several smaller problems vs. A big problem\n",
    "- Nested vs. Flat\n",
    "- Flexibility, gradual code development\n",
    "\n",
    "Let's start from the beginning:\n",
    "\n",
    "\n",
    "## 6.1.Functions\n",
    "\n",
    "Functions are the heart of the modular programming. Each function has multiple inputs, and a single output:"
   ]
  },
  {
   "cell_type": "code",
   "execution_count": 58,
   "metadata": {},
   "outputs": [],
   "source": [
    "def word_reverse(k):\n",
    "    word = k.lower()\n",
    "    print(word)\n",
    "    return word[::-1]\n",
    "    "
   ]
  },
  {
   "cell_type": "code",
   "execution_count": 59,
   "metadata": {},
   "outputs": [
    {
     "name": "stdout",
     "output_type": "stream",
     "text": [
      "sample\n",
      "elpmas\n"
     ]
    }
   ],
   "source": [
    "print(word_reverse('SamPLe'))"
   ]
  },
  {
   "cell_type": "code",
   "execution_count": 60,
   "metadata": {
    "scrolled": true
   },
   "outputs": [],
   "source": [
    "# define a function to get user input and turn into float\n",
    "def get_input(msg):\n",
    "    number = float(input('new message: '))\n",
    "    return number\n",
    "\n",
    "# to calculate x**2 + 1\n",
    "def math_func(x):\n",
    "    return x**2 + 1"
   ]
  },
  {
   "cell_type": "code",
   "execution_count": 61,
   "metadata": {},
   "outputs": [
    {
     "name": "stdout",
     "output_type": "stream",
     "text": [
      "10.0\n"
     ]
    }
   ],
   "source": [
    "# write a script that gets user input and calc math_func\n",
    "number = get_input('asd')\n",
    "print(math_func(number))"
   ]
  },
  {
   "cell_type": "markdown",
   "metadata": {},
   "source": [
    "### Python functions are amazing!\n",
    "\n",
    "Let's see two interesting characterstics of functions:"
   ]
  },
  {
   "cell_type": "code",
   "execution_count": 62,
   "metadata": {},
   "outputs": [
    {
     "name": "stdout",
     "output_type": "stream",
     "text": [
      "9\n"
     ]
    }
   ],
   "source": [
    "# take functions as arguments\n",
    "def sum_(x,y):\n",
    "    return x+y\n",
    "\n",
    "def printer(operator, x, y):\n",
    "    return operator(x, y)\n",
    "\n",
    "print(\n",
    "    printer(sum_, 3, 6)\n",
    ")\n"
   ]
  },
  {
   "cell_type": "code",
   "execution_count": 63,
   "metadata": {},
   "outputs": [
    {
     "name": "stdout",
     "output_type": "stream",
     "text": [
      "=== Fibo ===\n",
      "1\n",
      "1\n",
      "2\n",
      "3\n",
      "5\n"
     ]
    }
   ],
   "source": [
    "# functions could be called recursively\n",
    "def fibo(x):\n",
    "    if x <= 1:\n",
    "        return x\n",
    "    else:\n",
    "        return fibo(x-1) + fibo(x-2)\n",
    "\n",
    "# print first n fibo numbers\n",
    "print('=== Fibo ===')\n",
    "for i in range(1,6):\n",
    "    print(fibo(i))"
   ]
  }
 ],
 "metadata": {
  "kernelspec": {
   "display_name": "Python 3 (ipykernel)",
   "language": "python",
   "name": "python3"
  },
  "language_info": {
   "codemirror_mode": {
    "name": "ipython",
    "version": 3
   },
   "file_extension": ".py",
   "mimetype": "text/x-python",
   "name": "python",
   "nbconvert_exporter": "python",
   "pygments_lexer": "ipython3",
   "version": "3.10.12"
  }
 },
 "nbformat": 4,
 "nbformat_minor": 2
}
